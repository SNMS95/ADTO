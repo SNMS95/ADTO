{
  "cells": [
    {
      "cell_type": "markdown",
      "id": "5632625f",
      "metadata": {},
      "source": [
        "<a href=\"https://colab.research.google.com/github/SNMS95/ADTO/blob/main/TO.ipynb\" target=\"_parent\"><img src=\"https://colab.research.google.com/assets/colab-badge.svg\" alt=\"Open In Colab\"/></a>"
      ]
    },
    {
      "cell_type": "code",
      "execution_count": 1,
      "id": "28216075",
      "metadata": {
        "id": "28216075"
      },
      "outputs": [],
      "source": [
        "# === User-defined Settings for Topology Optimization ===\n",
        "\n",
        "ML_framework_to_use = \"jax\"  # Choose ML backend: \"torch\" or \"jax\"\n",
        "\n",
        "# Grid resolution (number of finite elements in x and y directions)\n",
        "# ⚠️ CNN only supports multiples of 8 for Nx and Ny\n",
        "Nx = 96                       # Number of elements along x-axis\n",
        "Ny = 64                       # Number of elements along y-axis\n",
        "\n",
        "# Material properties\n",
        "E0 = 1.0                     # Young's modulus of solid material\n",
        "Emin = 1e-9                  # Young's modulus of void\n",
        "nu = 0.3                     # Poisson's ratio\n",
        "\n",
        "# Filter and penalization\n",
        "rmin = 2.0                   # Radius for density filter\n",
        "penal = 3.0                  # SIMP penalization factor\n",
        "\n",
        "# Optimization control\n",
        "max_iterations = 50         # Number of optimization steps\n",
        "volfrac = 0.5\n",
        "\n",
        "# # Sanity checks\n",
        "# assert ML_framework_to_use in [\"jax\", \"torch\"]\n",
        "assert penal >= 1\n",
        "assert rmin >= 1"
      ]
    },
    {
      "cell_type": "code",
      "execution_count": 2,
      "id": "ffbc90b8",
      "metadata": {
        "colab": {
          "base_uri": "https://localhost:8080/"
        },
        "id": "ffbc90b8",
        "outputId": "b59d9342-7f71-4a6b-d588-5a55448320b3"
      },
      "outputs": [
        {
          "name": "stdout",
          "output_type": "stream",
          "text": [
            "🔧 Running locally\n",
            "Using backend: jax\n"
          ]
        }
      ],
      "source": [
        "# Check if in Colab and setup accordingly\n",
        "try:\n",
        "    import google.colab\n",
        "    # We're in Colab - clone and setup\n",
        "    import os\n",
        "    if not os.path.exists('ADTO'):\n",
        "        !git clone https://github.com/SNMS95/ADTO.git\n",
        "    %cd ADTO\n",
        "    print(\"🔧 Colab setup complete\")\n",
        "except:\n",
        "    # We're running locally - no setup needed\n",
        "    print(\"🔧 Running locally\")\n",
        "\n",
        "from common_numpy import setup_fea_problem, optimality_criteria, optimality_criteria2\n",
        "from backend_utils import (compute_compliance_differentiable,\n",
        "                           apply_density_filter)"
      ]
    },
    {
      "cell_type": "code",
      "execution_count": 3,
      "id": "2020db1e",
      "metadata": {},
      "outputs": [
        {
          "name": "stdout",
          "output_type": "stream",
          "text": [
            "Training with JAX backend...\n",
            "JAX - Epoch 0, Obj: 255.095202, constr: 0.000000\n",
            "JAX - Epoch 5, Obj: 78.851753, constr: 0.000365\n",
            "JAX - Epoch 10, Obj: 57.521173, constr: -0.000993\n",
            "JAX - Epoch 15, Obj: 51.075993, constr: -0.000079\n",
            "JAX - Epoch 20, Obj: 49.595860, constr: 0.000032\n",
            "JAX - Epoch 25, Obj: 49.436436, constr: 0.000031\n",
            "JAX - Epoch 30, Obj: 49.384946, constr: 0.000863\n",
            "JAX - Epoch 35, Obj: 49.383963, constr: 0.000724\n",
            "JAX - Epoch 40, Obj: 49.383964, constr: 0.000716\n",
            "JAX - Epoch 45, Obj: 49.383986, constr: 0.000715\n"
          ]
        }
      ],
      "source": [
        "import jax\n",
        "import jax.numpy as jnp\n",
        "print(\"Training with JAX backend...\")\n",
        "\n",
        "# Setup problem\n",
        "problem_data = setup_fea_problem(Nx=Nx, Ny=Ny, rmin=rmin, E0=E0, Emin=Emin, penal=penal,\n",
        "                        nu=nu)\n",
        "rho_init = jnp.ones((Ny, Nx)) * volfrac  # Initial guess\n",
        "initial_constr_violation = 0.0\n",
        "\n",
        "# Create loss function and optimizer\n",
        "\n",
        "def volume_constraint_fn(rho):\n",
        "    output = rho.ravel(order='F')\n",
        "    # Apply filter\n",
        "    physical_densities = apply_density_filter(output, problem_data)\n",
        "    constraint = jnp.mean(physical_densities) - volfrac\n",
        "    return constraint\n",
        "\n",
        "def obj_and_constraint_fn(rho):\n",
        "    output = rho.ravel(order='F')\n",
        "    # Apply filter\n",
        "    physical_densities = apply_density_filter(output, problem_data)\n",
        "    # Compute compliance\n",
        "    compliance, ce = compute_compliance_differentiable(output, problem_data)\n",
        "    constraint = volume_constraint_fn(rho)\n",
        "    return (compliance, constraint), (compliance, constraint, physical_densities)\n",
        "\n",
        "# Training loop\n",
        "objs = []\n",
        "constraints = []\n",
        "designs = []\n",
        "\n",
        "rho = rho_init\n",
        "constr_violation = initial_constr_violation\n",
        "\n",
        "for epoch in range(max_iterations):\n",
        "    jacobian, aux = jax.jacrev(\n",
        "        obj_and_constraint_fn, has_aux=True)(rho)\n",
        "    obj_grads = jacobian[0]\n",
        "    constraint_grads = jacobian[1]\n",
        "    rho = optimality_criteria2(\n",
        "        rho.ravel(), obj_grads.ravel(), constraint_grads.ravel(),\n",
        "        vol_constr_fn=volume_constraint_fn)\n",
        "    obj, constr, design = aux\n",
        "    objs.append(obj)\n",
        "    constraints.append(constr)\n",
        "    designs.append(design)\n",
        "    if epoch % 5 == 0:\n",
        "        print(f\"JAX - Epoch {epoch}, Obj: {obj:.6f}, constr: {constr:.6f}\")\n"
      ]
    },
    {
      "cell_type": "code",
      "execution_count": 4,
      "id": "bc08169c",
      "metadata": {},
      "outputs": [
        {
          "data": {
            "text/plain": [
              "<matplotlib.colorbar.Colorbar at 0x12f7d2d90>"
            ]
          },
          "execution_count": 4,
          "metadata": {},
          "output_type": "execute_result"
        },
        {
          "data": {
            "image/png": "[encoded data removed]",
            "text/plain": [
              "<Figure size 640x480 with 2 Axes>"
            ]
          },
          "metadata": {},
          "output_type": "display_data"
        }
      ],
      "source": [
        "import matplotlib.pyplot as plt\n",
        "plt.imshow(design.reshape(Ny, Nx, order='F'))\n",
        "plt.colorbar()"
      ]
    },
    {
      "cell_type": "code",
      "execution_count": null,
      "id": "d297e40b",
      "metadata": {},
      "outputs": [],
      "source": []
    },
    {
      "cell_type": "code",
      "execution_count": null,
      "id": "l3w7eXlwy2VP",
      "metadata": {
        "id": "l3w7eXlwy2VP"
      },
      "outputs": [],
      "source": [
        "def run_with_jax_backend():\n",
        "    \"\"\"Training example with JAX backend\"\"\"\n",
        "    import jax\n",
        "    import jax.numpy as jnp\n",
        "    print(\"Training with JAX backend...\")\n",
        "\n",
        "    # Setup problem\n",
        "    problem_data = setup_fea_problem(Nx=Nx, Ny=Ny, rmin=rmin, E0=E0, Emin=Emin, penal=penal,\n",
        "                            nu=nu)\n",
        "    rho_init = jnp.ones((Ny, Nx)) * volfrac  # Initial guess\n",
        "    initial_constr_violation = 0.0\n",
        "\n",
        "    # Create loss function and optimizer\n",
        "    def obj_and_constraint_fn(rho):\n",
        "        output = rho.ravel(order='F')\n",
        "        # Apply filter\n",
        "        physical_densities = apply_density_filter(output, problem_data)\n",
        "        # Compute compliance\n",
        "        compliance, ce = compute_compliance_differentiable(output, problem_data)\n",
        "        constraint = jnp.mean(physical_densities)\n",
        "        return (compliance, constraint), (compliance, constraint, physical_densities)\n",
        "\n",
        "    # Training loop\n",
        "    objs = []\n",
        "    constraints = []\n",
        "    designs = []\n",
        "\n",
        "    rho = rho_init\n",
        "    constr_violation = initial_constr_violation\n",
        "\n",
        "    for epoch in range(max_iterations):\n",
        "        jacobian, aux = jax.jacrev(\n",
        "            obj_and_constraint_fn, has_aux=True)(rho)\n",
        "        obj_grads = jacobian[0]\n",
        "        constraint_grads = jacobian[1]\n",
        "        rho, constr_violation = optimality_criteria(rho.ravel(), obj_grads.ravel(), constraint_grads.ravel(), constr_violation)\n",
        "        obj, constr, design = aux\n",
        "        objs.append(obj)\n",
        "        constraints.append(constr)\n",
        "        designs.append(design)\n",
        "        if epoch % 5 == 0:\n",
        "            print(f\"JAX - Epoch {epoch}, Obj: {obj:.6f}, constr violation: {constr_violation:.6f}\")\n",
        "    return objs, constraints, designs\n",
        "\n",
        "def run_with_pytorch_backend():\n",
        "    \"\"\"Training example with PyTorch backend\"\"\"\n",
        "    import torch\n",
        "    print(\"Training with PyTorch backend...\")\n",
        "\n",
        "    # Setup problem\n",
        "    problem_data = setup_fea_problem(Nx=Nx, Ny=Ny, rmin=rmin, E0=E0, Emin=Emin, penal=penal,\n",
        "                           nu=nu)\n",
        "    # Create nn model\n",
        "    model, model_input = create_network_and_input(nn_type=nn_type, hyper_params=nn_arch_details,\n",
        "                                   random_seed=random_seed, grid_size=(Ny, Nx))\n",
        "\n",
        "    # Setup optimizer\n",
        "    optimizer = get_optimizer(optimizer_str, **optimizer_hyper_params)\n",
        "\n",
        "    # Training loop\n",
        "    for epoch in range(max_iterations):\n",
        "        with torch.enable_grad():\n",
        "            # Forward pass\n",
        "            densities = model(model_input)\n",
        "            densities = volume_enforcing_filter(densities, volfrac)\n",
        "            filtered_densities = apply_density_filter(densities, problem_data)\n",
        "\n",
        "            # Physics simulation\n",
        "            compliance, _ = compute_compliance_differentiable(filtered_densities.flatten(), problem_data)\n",
        "            # Backward pass\n",
        "            model.zero_grad()\n",
        "            trainable_weights = [v for v in model.trainable_weights]\n",
        "\n",
        "            # Call torch.Tensor.backward() on the loss to compute gradients\n",
        "            # for the weights.\n",
        "            compliance.backward()\n",
        "            gradients = [v.value.grad for v in trainable_weights]\n",
        "\n",
        "            # Update weights\n",
        "            with torch.no_grad():\n",
        "                optimizer.apply(gradients, trainable_weights)\n",
        "\n",
        "        if epoch % 10 == 0:\n",
        "            print(f\"PyTorch - Epoch {epoch}, Loss: {compliance.item():.6f}\")\n",
        "\n",
        "    return compliance.item()\n",
        "\n",
        "def train_nn_model():\n",
        "    \"\"\"Train the neural network model.\"\"\"\n",
        "    backend = keras.backend.backend()\n",
        "    if backend == \"jax\":\n",
        "        return train_with_jax_backend()\n",
        "    elif backend == \"pytorch\":\n",
        "        return train_with_pytorch_backend()\n",
        "    else:\n",
        "        raise ValueError(f\"Unknown backend: {backend}\")"
      ]
    },
    {
      "cell_type": "code",
      "execution_count": 4,
      "id": "PfoooJ8c0UaX",
      "metadata": {
        "colab": {
          "base_uri": "https://localhost:8080/"
        },
        "id": "PfoooJ8c0UaX",
        "outputId": "a4da8ddc-2905-467a-bdca-86c919d5faf5"
      },
      "outputs": [
        {
          "name": "stdout",
          "output_type": "stream",
          "text": [
            "AD_in_TO.ipynb\tfea_bisec_numpy.py  LICENSE\t README.md\n",
            "custom_vjps.py\tjax\t\t    __pycache__\n"
          ]
        }
      ],
      "source": []
    },
    {
      "cell_type": "code",
      "execution_count": null,
      "id": "JOuLvR2F0UeW",
      "metadata": {
        "id": "JOuLvR2F0UeW"
      },
      "outputs": [],
      "source": []
    },
    {
      "cell_type": "code",
      "execution_count": null,
      "id": "fZvgNov90UhN",
      "metadata": {
        "id": "fZvgNov90UhN"
      },
      "outputs": [],
      "source": []
    }
  ],
  "metadata": {
    "colab": {
      "provenance": []
    },
    "kernelspec": {
      "display_name": "metatopia_new",
      "language": "python",
      "name": "python3"
    },
    "language_info": {
      "codemirror_mode": {
        "name": "ipython",
        "version": 3
      },
      "file_extension": ".py",
      "mimetype": "text/x-python",
      "name": "python",
      "nbconvert_exporter": "python",
      "pygments_lexer": "ipython3",
      "version": "3.11.12"
    }
  },
  "nbformat": 4,
  "nbformat_minor": 5
}
