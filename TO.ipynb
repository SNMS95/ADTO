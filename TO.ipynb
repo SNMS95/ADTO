{
  "cells": [
    {
      "cell_type": "code",
      "execution_count": 1,
      "id": "28216075",
      "metadata": {
        "id": "28216075"
      },
      "outputs": [],
      "source": [
        "# === User-defined Settings for Topology Optimization ===\n",
        "\n",
        "# Grid resolution (number of finite elements in x and y directions)\n",
        "# ⚠️ CNN only supports multiples of 8 for Nx and Ny\n",
        "Nx = 3                       # Number of elements along x-axis\n",
        "Ny = 2                       # Number of elements along y-axis\n",
        "\n",
        "# Material properties\n",
        "E0 = 1.0                     # Young's modulus of solid material\n",
        "Emin = 1e-9                  # Young's modulus of void\n",
        "nu = 0.3                     # Poisson's ratio\n",
        "\n",
        "# Filter and penalization\n",
        "rmin = 2.0                   # Radius for density filter\n",
        "penal = 3.0                  # SIMP penalization factor\n",
        "\n",
        "# Optimization control\n",
        "max_iterations = 5         # Number of optimization steps\n",
        "volfrac = 0.35\n",
        "\n",
        "# # Sanity checks\n",
        "# assert ML_framework_to_use in [\"jax\", \"torch\"]\n",
        "assert penal >= 1\n",
        "assert rmin >= 1"
      ]
    },
    {
      "cell_type": "code",
      "execution_count": 2,
      "id": "ffbc90b8",
      "metadata": {
        "id": "ffbc90b8",
        "outputId": "b59d9342-7f71-4a6b-d588-5a55448320b3",
        "colab": {
          "base_uri": "https://localhost:8080/"
        }
      },
      "outputs": [
        {
          "output_type": "stream",
          "name": "stdout",
          "text": [
            "Cloning into 'AutoDiff_in_TO'...\n",
            "remote: Enumerating objects: 24, done.\u001b[K\n",
            "remote: Counting objects: 100% (24/24), done.\u001b[K\n",
            "remote: Compressing objects: 100% (20/20), done.\u001b[K\n",
            "remote: Total 24 (delta 5), reused 14 (delta 3), pack-reused 0 (from 0)\u001b[K\n",
            "Receiving objects: 100% (24/24), 35.74 KiB | 1.19 MiB/s, done.\n",
            "Resolving deltas: 100% (5/5), done.\n",
            "/content/AutoDiff_in_TO\n"
          ]
        }
      ],
      "source": [
        "# Imports\n",
        "import jax\n",
        "# Enable float64 for better numerical stability (especially in FEA)\n",
        "jax.config.update(\"jax_enable_x64\", True)\n",
        "import jax.numpy as jnp\n",
        "\n",
        "!git clone https://github.com/SNMS95/AutoDiff_in_TO.git\n",
        "%cd AutoDiff_in_TO/\n",
        "from fea_bisec_numpy import setup_fea_problem\n",
        "from custom_vjps import compute_compliance_ad, bisection_alg_ad"
      ]
    },
    {
      "cell_type": "code",
      "source": [
        "problem_data = setup_fea_problem(Nx=Nx, Ny=Ny, rmin=rmin, E0=E0, Emin=Emin, nu=nu)"
      ],
      "metadata": {
        "id": "l3w7eXlwy2VP"
      },
      "id": "l3w7eXlwy2VP",
      "execution_count": 3,
      "outputs": []
    },
    {
      "cell_type": "code",
      "source": [],
      "metadata": {
        "id": "PfoooJ8c0UaX",
        "outputId": "a4da8ddc-2905-467a-bdca-86c919d5faf5",
        "colab": {
          "base_uri": "https://localhost:8080/"
        }
      },
      "id": "PfoooJ8c0UaX",
      "execution_count": 4,
      "outputs": [
        {
          "output_type": "stream",
          "name": "stdout",
          "text": [
            "AD_in_TO.ipynb\tfea_bisec_numpy.py  LICENSE\t README.md\n",
            "custom_vjps.py\tjax\t\t    __pycache__\n"
          ]
        }
      ]
    },
    {
      "cell_type": "code",
      "source": [],
      "metadata": {
        "id": "JOuLvR2F0UeW"
      },
      "id": "JOuLvR2F0UeW",
      "execution_count": null,
      "outputs": []
    },
    {
      "cell_type": "code",
      "source": [],
      "metadata": {
        "id": "fZvgNov90UhN"
      },
      "id": "fZvgNov90UhN",
      "execution_count": null,
      "outputs": []
    },
    {
      "cell_type": "code",
      "execution_count": null,
      "id": "db06a56a",
      "metadata": {
        "id": "db06a56a"
      },
      "outputs": [],
      "source": [
        "def optimality_criteria_step(x, ke, args):\n",
        "  \"\"\"Heuristic topology optimization, as described in the 88 lines paper.\"\"\"\n",
        "  c, dc = autograd.value_and_grad(objective)(x, ke, args)\n",
        "  dv = autograd.grad(mean_density)(x, args)\n",
        "  x = optimality_criteria_combine(x, dc, dv, args)\n",
        "  return c, x\n",
        "\n",
        "def optimality_criteria_combine(x, dc, dv, args, max_move=0.2, eta=0.5):\n",
        "  \"\"\"Fully differentiable version of the optimality criteria.\"\"\"\n",
        "\n",
        "  volfrac = args['volfrac']\n",
        "\n",
        "  def pack(x, dc, dv):\n",
        "    return np.concatenate([x.ravel(), dc.ravel(), dv.ravel()])\n",
        "\n",
        "  def unpack(inputs):\n",
        "    x_flat, dc_flat, dv_flat = np.split(inputs, [x.size, x.size + dc.size])\n",
        "    return (x_flat.reshape(x.shape),\n",
        "            dc_flat.reshape(dc.shape),\n",
        "            dv_flat.reshape(dv.shape))\n",
        "\n",
        "  def compute_xnew(inputs, lambda_):\n",
        "    x, dc, dv = unpack(inputs)\n",
        "    # avoid dividing by zero outside the design region\n",
        "    dv = np.where(np.ravel(args['mask']) > 0, dv, 1)\n",
        "    # square root is not defined for negative numbers, which can happen due to\n",
        "    # small numerical errors in the computed gradients.\n",
        "    xnew = x * np.maximum(-dc / (lambda_ * dv), 0) ** eta\n",
        "    lower = np.maximum(0.0, x - max_move)\n",
        "    upper = np.minimum(1.0, x + max_move)\n",
        "    # note: autograd does not define gradients for np.clip\n",
        "    return np.minimum(np.maximum(xnew, lower), upper)\n",
        "\n",
        "  def f(inputs, lambda_):\n",
        "    xnew = compute_xnew(inputs, lambda_)\n",
        "    return volfrac - mean_density(xnew, args)\n",
        "\n",
        "  # find_root allows us to differentiate through the while loop.\n",
        "  inputs = pack(x, dc, dv)\n",
        "  lambda_ = autograd_lib.find_root(f, inputs, lower_bound=1e-9, upper_bound=1e9)\n",
        "  return compute_xnew(inputs, lambda_)"
      ]
    }
  ],
  "metadata": {
    "kernelspec": {
      "display_name": "metatopia_new",
      "language": "python",
      "name": "python3"
    },
    "language_info": {
      "codemirror_mode": {
        "name": "ipython",
        "version": 3
      },
      "file_extension": ".py",
      "mimetype": "text/x-python",
      "name": "python",
      "nbconvert_exporter": "python",
      "pygments_lexer": "ipython3",
      "version": "3.11.12"
    },
    "colab": {
      "provenance": []
    }
  },
  "nbformat": 4,
  "nbformat_minor": 5
}